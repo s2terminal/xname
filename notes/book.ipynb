{
 "cells": [
  {
   "cell_type": "code",
   "execution_count": null,
   "metadata": {},
   "outputs": [],
   "source": [
    "from ipywidgets import Text, interact\n",
    "original_name = Text(value='', placeholder='名前を入れてね', description='name:')"
   ]
  },
  {
   "cell_type": "code",
   "execution_count": null,
   "metadata": {},
   "outputs": [],
   "source": [
    "from main import xname\n",
    "from src import bruteforce\n",
    "from src import random_search\n",
    "from src import pulp_search\n",
    "from src import local_search"
   ]
  },
  {
   "cell_type": "code",
   "execution_count": null,
   "metadata": {},
   "outputs": [],
   "source": [
    "en_x = True\n",
    "\n",
    "def callback(original_name):\n",
    "    print(xname(original_name, pulp_search.solver, en_x))\n",
    "    print(xname(original_name, pulp_search.solver, en_x))\n",
    "    print(xname(original_name, random_search.search_ary, en_x))\n",
    "    print(xname(original_name, random_search.search_map, en_x))\n",
    "    print(xname(original_name, local_search.search_swap_two_any, en_x))\n",
    "    print(xname(original_name, local_search.search_swap_two_adjacent, en_x))\n",
    "#     print(xname(original_name, bruteforce.search_xname, en_x))\n",
    "\n",
    "interact(callback, original_name=original_name)"
   ]
  },
  {
   "cell_type": "code",
   "execution_count": null,
   "metadata": {},
   "outputs": [],
   "source": []
  }
 ],
 "metadata": {
  "kernelspec": {
   "display_name": "Python 3",
   "language": "python",
   "name": "python3"
  },
  "language_info": {
   "codemirror_mode": {
    "name": "ipython",
    "version": 3
   },
   "file_extension": ".py",
   "mimetype": "text/x-python",
   "name": "python",
   "nbconvert_exporter": "python",
   "pygments_lexer": "ipython3",
   "version": "3.8.6"
  }
 },
 "nbformat": 4,
 "nbformat_minor": 2
}
